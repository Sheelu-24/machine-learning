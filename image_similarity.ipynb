{
  "nbformat": 4,
  "nbformat_minor": 0,
  "metadata": {
    "colab": {
      "name": "image similarity.ipynb",
      "provenance": [],
      "mount_file_id": "1QRLtZAdMyODQRi82M2Ron4GY1yrcy8e7",
      "authorship_tag": "ABX9TyPIWSnyXC7ghLau5GxsTAYX",
      "include_colab_link": true
    },
    "kernelspec": {
      "display_name": "Python 3",
      "name": "python3"
    },
    "language_info": {
      "name": "python"
    }
  },
  "cells": [
    {
      "cell_type": "markdown",
      "metadata": {
        "id": "view-in-github",
        "colab_type": "text"
      },
      "source": [
        "<a href=\"https://colab.research.google.com/github/Sheelu-24/machine-learning/blob/main/image_similarity.ipynb\" target=\"_parent\"><img src=\"https://colab.research.google.com/assets/colab-badge.svg\" alt=\"Open In Colab\"/></a>"
      ]
    },
    {
      "cell_type": "code",
      "metadata": {
        "colab": {
          "base_uri": "https://localhost:8080/"
        },
        "id": "MMMrrqpLnj_o",
        "outputId": "2e18da34-d4a8-4666-f05f-3b2c52b450b0"
      },
      "source": [
        "pip install image-similarity-measures\n"
      ],
      "execution_count": 13,
      "outputs": [
        {
          "output_type": "stream",
          "name": "stdout",
          "text": [
            "Requirement already satisfied: image-similarity-measures in /usr/local/lib/python3.7/dist-packages (0.3.5)\n",
            "Requirement already satisfied: pyfftw in /usr/local/lib/python3.7/dist-packages (from image-similarity-measures) (0.12.0)\n",
            "Requirement already satisfied: scikit-image in /usr/local/lib/python3.7/dist-packages (from image-similarity-measures) (0.18.3)\n",
            "Requirement already satisfied: phasepack in /usr/local/lib/python3.7/dist-packages (from image-similarity-measures) (1.5)\n",
            "Requirement already satisfied: rasterio in /usr/local/lib/python3.7/dist-packages (from image-similarity-measures) (1.2.10)\n",
            "Requirement already satisfied: numpy in /usr/local/lib/python3.7/dist-packages (from image-similarity-measures) (1.19.5)\n",
            "Requirement already satisfied: opencv-python in /usr/local/lib/python3.7/dist-packages (from image-similarity-measures) (4.1.2.30)\n",
            "Requirement already satisfied: affine in /usr/local/lib/python3.7/dist-packages (from rasterio->image-similarity-measures) (2.3.0)\n",
            "Requirement already satisfied: click>=4.0 in /usr/local/lib/python3.7/dist-packages (from rasterio->image-similarity-measures) (7.1.2)\n",
            "Requirement already satisfied: click-plugins in /usr/local/lib/python3.7/dist-packages (from rasterio->image-similarity-measures) (1.1.1)\n",
            "Requirement already satisfied: certifi in /usr/local/lib/python3.7/dist-packages (from rasterio->image-similarity-measures) (2021.10.8)\n",
            "Requirement already satisfied: cligj>=0.5 in /usr/local/lib/python3.7/dist-packages (from rasterio->image-similarity-measures) (0.7.2)\n",
            "Requirement already satisfied: setuptools in /usr/local/lib/python3.7/dist-packages (from rasterio->image-similarity-measures) (57.4.0)\n",
            "Requirement already satisfied: attrs in /usr/local/lib/python3.7/dist-packages (from rasterio->image-similarity-measures) (21.2.0)\n",
            "Requirement already satisfied: snuggs>=1.4.1 in /usr/local/lib/python3.7/dist-packages (from rasterio->image-similarity-measures) (1.4.7)\n",
            "Requirement already satisfied: pyparsing>=2.1.6 in /usr/local/lib/python3.7/dist-packages (from snuggs>=1.4.1->rasterio->image-similarity-measures) (3.0.6)\n",
            "Requirement already satisfied: scipy>=1.0.1 in /usr/local/lib/python3.7/dist-packages (from scikit-image->image-similarity-measures) (1.4.1)\n",
            "Requirement already satisfied: tifffile>=2019.7.26 in /usr/local/lib/python3.7/dist-packages (from scikit-image->image-similarity-measures) (2021.11.2)\n",
            "Requirement already satisfied: networkx>=2.0 in /usr/local/lib/python3.7/dist-packages (from scikit-image->image-similarity-measures) (2.6.3)\n",
            "Requirement already satisfied: imageio>=2.3.0 in /usr/local/lib/python3.7/dist-packages (from scikit-image->image-similarity-measures) (2.4.1)\n",
            "Requirement already satisfied: PyWavelets>=1.1.1 in /usr/local/lib/python3.7/dist-packages (from scikit-image->image-similarity-measures) (1.2.0)\n",
            "Requirement already satisfied: pillow!=7.1.0,!=7.1.1,>=4.3.0 in /usr/local/lib/python3.7/dist-packages (from scikit-image->image-similarity-measures) (7.1.2)\n",
            "Requirement already satisfied: matplotlib!=3.0.0,>=2.0.0 in /usr/local/lib/python3.7/dist-packages (from scikit-image->image-similarity-measures) (3.2.2)\n",
            "Requirement already satisfied: cycler>=0.10 in /usr/local/lib/python3.7/dist-packages (from matplotlib!=3.0.0,>=2.0.0->scikit-image->image-similarity-measures) (0.11.0)\n",
            "Requirement already satisfied: python-dateutil>=2.1 in /usr/local/lib/python3.7/dist-packages (from matplotlib!=3.0.0,>=2.0.0->scikit-image->image-similarity-measures) (2.8.2)\n",
            "Requirement already satisfied: kiwisolver>=1.0.1 in /usr/local/lib/python3.7/dist-packages (from matplotlib!=3.0.0,>=2.0.0->scikit-image->image-similarity-measures) (1.3.2)\n",
            "Requirement already satisfied: six>=1.5 in /usr/local/lib/python3.7/dist-packages (from python-dateutil>=2.1->matplotlib!=3.0.0,>=2.0.0->scikit-image->image-similarity-measures) (1.15.0)\n"
          ]
        }
      ]
    },
    {
      "cell_type": "code",
      "metadata": {
        "id": "1gXIGrlZs0-m"
      },
      "source": [
        "import cv2\n",
        "import os\n",
        "import image_similarity_measures\n",
        "from sys import argv\n",
        "from image_similarity_measures.quality_metrics import rmse, ssim, sre"
      ],
      "execution_count": 14,
      "outputs": []
    },
    {
      "cell_type": "code",
      "metadata": {
        "id": "GiOCfE4-oQ-p"
      },
      "source": [
        "#img.copy_file_from_gdrive(fruits1)\n",
        "\n",
        "test_img = cv2.imread('/content/drive/MyDrive/Colab Notebooks/input/fruit_0000.jpg')"
      ],
      "execution_count": 15,
      "outputs": []
    },
    {
      "cell_type": "code",
      "metadata": {
        "id": "Mufre66ZoRK7"
      },
      "source": [
        "ssim_measures = {}\n",
        "rmse_measures = {}\n",
        "sre_measures = {}"
      ],
      "execution_count": 16,
      "outputs": []
    },
    {
      "cell_type": "code",
      "metadata": {
        "id": "gC72XG4roRNv"
      },
      "source": [
        "scale_percent = 100\n",
        "width = int(test_img.shape[1] * scale_percent / 100)\n",
        "height = int(test_img.shape[0] * scale_percent / 100)\n",
        "dim = (width, height)\n",
        "\n",
        "data_dir = '/content/drive/MyDrive/Colab Notebooks/fruit1'"
      ],
      "execution_count": 17,
      "outputs": []
    },
    {
      "cell_type": "code",
      "metadata": {
        "id": "k_IQJAznoRQV"
      },
      "source": [
        "for file in os.listdir(data_dir):\n",
        "\timg_path = os.path.join(data_dir, file)\n",
        "\tdata_img = cv2.imread(img_path)\n",
        "\tresized_img = cv2.resize(data_img, dim, interpolation = cv2.INTER_AREA)\n",
        "\tssim_measures[img_path]= ssim(test_img, resized_img)\n",
        "\trmse_measures[img_path]= rmse(test_img, resized_img)\n",
        "\tsre_measures[img_path]= sre(test_img, resized_img)"
      ],
      "execution_count": 18,
      "outputs": []
    },
    {
      "cell_type": "code",
      "metadata": {
        "id": "JAUCXPJooRTf"
      },
      "source": [
        "def calc_closest_val(dict, checkMax):\n",
        "    result = {}\n",
        "    if (checkMax):\n",
        "    \tclosest = max(dict.values())\n",
        "    else:\n",
        "    \tclosest = min(dict.values())\n",
        "    \t\t\n",
        "    for key, value in dict.items():\n",
        "    \tprint(\"The difference between \", key ,\" and the original image is : \\n\", value)\n",
        "    \tif (value == closest):\n",
        "    \t    result[key] = closest\n",
        "    \t    \n",
        "    print(\"The closest value: \", closest)\t    \n",
        "    print(\"######################################################################\")\n",
        "    return result"
      ],
      "execution_count": 19,
      "outputs": []
    },
    {
      "cell_type": "code",
      "metadata": {
        "id": "ydkqTIP6oRW9",
        "colab": {
          "base_uri": "https://localhost:8080/"
        },
        "outputId": "2866622a-5ad3-481f-ff79-38017411f377"
      },
      "source": [
        "ssim = calc_closest_val(ssim_measures, True)\n",
        "rmse = calc_closest_val(rmse_measures, False)\n",
        "sre = calc_closest_val(sre_measures, True)\n",
        "\n",
        "print(\"The most similar according to SSIM: \" , ssim)\n",
        "print(\"The most similar according to RMSE: \" , rmse)\n",
        "print(\"The most similar according to SRE: \" , sre)"
      ],
      "execution_count": 20,
      "outputs": [
        {
          "output_type": "stream",
          "name": "stdout",
          "text": [
            "The difference between  /content/drive/MyDrive/Colab Notebooks/fruit1/fruit_0007.jpg  and the original image is : \n",
            " 0.945162715763228\n",
            "The difference between  /content/drive/MyDrive/Colab Notebooks/fruit1/fruit_0005.jpg  and the original image is : \n",
            " 0.8351470996265751\n",
            "The difference between  /content/drive/MyDrive/Colab Notebooks/fruit1/fruit_0001.jpg  and the original image is : \n",
            " 0.5842890451152026\n",
            "The difference between  /content/drive/MyDrive/Colab Notebooks/fruit1/fruit_0003.jpg  and the original image is : \n",
            " 0.8265423479860089\n",
            "The difference between  /content/drive/MyDrive/Colab Notebooks/fruit1/fruit_0014.jpg  and the original image is : \n",
            " 0.8027854051924944\n",
            "The difference between  /content/drive/MyDrive/Colab Notebooks/fruit1/fruit_0011.jpg  and the original image is : \n",
            " 0.7849528524208473\n",
            "The difference between  /content/drive/MyDrive/Colab Notebooks/fruit1/fruit_0002.jpg  and the original image is : \n",
            " 0.8695200523421138\n",
            "The difference between  /content/drive/MyDrive/Colab Notebooks/fruit1/fruit_0008.jpg  and the original image is : \n",
            " 0.8557143111257867\n",
            "The difference between  /content/drive/MyDrive/Colab Notebooks/fruit1/fruit_0009.jpg  and the original image is : \n",
            " 0.7492845963743563\n",
            "The difference between  /content/drive/MyDrive/Colab Notebooks/fruit1/fruit_0013.jpg  and the original image is : \n",
            " 0.793762572255587\n",
            "The difference between  /content/drive/MyDrive/Colab Notebooks/fruit1/fruit_0006.jpg  and the original image is : \n",
            " 0.8229800778055697\n",
            "The difference between  /content/drive/MyDrive/Colab Notebooks/fruit1/fruit_0004.jpg  and the original image is : \n",
            " 0.7532032714021762\n",
            "The difference between  /content/drive/MyDrive/Colab Notebooks/fruit1/fruit_0012.jpg  and the original image is : \n",
            " 0.8832271857124664\n",
            "The closest value:  0.945162715763228\n",
            "######################################################################\n",
            "The difference between  /content/drive/MyDrive/Colab Notebooks/fruit1/fruit_0007.jpg  and the original image is : \n",
            " 0.010965225\n",
            "The difference between  /content/drive/MyDrive/Colab Notebooks/fruit1/fruit_0005.jpg  and the original image is : \n",
            " 0.017774763\n",
            "The difference between  /content/drive/MyDrive/Colab Notebooks/fruit1/fruit_0001.jpg  and the original image is : \n",
            " 0.026072534\n",
            "The difference between  /content/drive/MyDrive/Colab Notebooks/fruit1/fruit_0003.jpg  and the original image is : \n",
            " 0.017545344\n",
            "The difference between  /content/drive/MyDrive/Colab Notebooks/fruit1/fruit_0014.jpg  and the original image is : \n",
            " 0.017946627\n",
            "The difference between  /content/drive/MyDrive/Colab Notebooks/fruit1/fruit_0011.jpg  and the original image is : \n",
            " 0.020926954\n",
            "The difference between  /content/drive/MyDrive/Colab Notebooks/fruit1/fruit_0002.jpg  and the original image is : \n",
            " 0.015912473\n",
            "The difference between  /content/drive/MyDrive/Colab Notebooks/fruit1/fruit_0008.jpg  and the original image is : \n",
            " 0.014320061\n",
            "The difference between  /content/drive/MyDrive/Colab Notebooks/fruit1/fruit_0009.jpg  and the original image is : \n",
            " 0.02367638\n",
            "The difference between  /content/drive/MyDrive/Colab Notebooks/fruit1/fruit_0013.jpg  and the original image is : \n",
            " 0.021596609\n",
            "The difference between  /content/drive/MyDrive/Colab Notebooks/fruit1/fruit_0006.jpg  and the original image is : \n",
            " 0.013562304\n",
            "The difference between  /content/drive/MyDrive/Colab Notebooks/fruit1/fruit_0004.jpg  and the original image is : \n",
            " 0.02205769\n",
            "The difference between  /content/drive/MyDrive/Colab Notebooks/fruit1/fruit_0012.jpg  and the original image is : \n",
            " 0.01737037\n",
            "The closest value:  0.010965225\n",
            "######################################################################\n",
            "The difference between  /content/drive/MyDrive/Colab Notebooks/fruit1/fruit_0007.jpg  and the original image is : \n",
            " 49.09646789789954\n",
            "The difference between  /content/drive/MyDrive/Colab Notebooks/fruit1/fruit_0005.jpg  and the original image is : \n",
            " 47.74486380088115\n",
            "The difference between  /content/drive/MyDrive/Colab Notebooks/fruit1/fruit_0001.jpg  and the original image is : \n",
            " 45.669431334562034\n",
            "The difference between  /content/drive/MyDrive/Colab Notebooks/fruit1/fruit_0003.jpg  and the original image is : \n",
            " 47.74655091892845\n",
            "The difference between  /content/drive/MyDrive/Colab Notebooks/fruit1/fruit_0014.jpg  and the original image is : \n",
            " 47.18708920441973\n",
            "The difference between  /content/drive/MyDrive/Colab Notebooks/fruit1/fruit_0011.jpg  and the original image is : \n",
            " 46.27021453898625\n",
            "The difference between  /content/drive/MyDrive/Colab Notebooks/fruit1/fruit_0002.jpg  and the original image is : \n",
            " 47.97692953817899\n",
            "The difference between  /content/drive/MyDrive/Colab Notebooks/fruit1/fruit_0008.jpg  and the original image is : \n",
            " 48.6474674113536\n",
            "The difference between  /content/drive/MyDrive/Colab Notebooks/fruit1/fruit_0009.jpg  and the original image is : \n",
            " 45.97262511344283\n",
            "The difference between  /content/drive/MyDrive/Colab Notebooks/fruit1/fruit_0013.jpg  and the original image is : \n",
            " 46.43259699607013\n",
            "The difference between  /content/drive/MyDrive/Colab Notebooks/fruit1/fruit_0006.jpg  and the original image is : \n",
            " 49.10606367686336\n",
            "The difference between  /content/drive/MyDrive/Colab Notebooks/fruit1/fruit_0004.jpg  and the original image is : \n",
            " 46.18337827305925\n",
            "The difference between  /content/drive/MyDrive/Colab Notebooks/fruit1/fruit_0012.jpg  and the original image is : \n",
            " 47.33723218379598\n",
            "The closest value:  49.10606367686336\n",
            "######################################################################\n",
            "The most similar according to SSIM:  {'/content/drive/MyDrive/Colab Notebooks/fruit1/fruit_0007.jpg': 0.945162715763228}\n",
            "The most similar according to RMSE:  {'/content/drive/MyDrive/Colab Notebooks/fruit1/fruit_0007.jpg': 0.010965225}\n",
            "The most similar according to SRE:  {'/content/drive/MyDrive/Colab Notebooks/fruit1/fruit_0006.jpg': 49.10606367686336}\n"
          ]
        }
      ]
    }
  ]
}